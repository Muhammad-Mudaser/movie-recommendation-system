{
 "cells": [
  {
   "cell_type": "code",
   "execution_count": 1,
   "id": "4cd5b348-f9df-46bb-8e3c-aa8f45656658",
   "metadata": {},
   "outputs": [],
   "source": [
    "import pandas as pd"
   ]
  },
  {
   "cell_type": "code",
   "execution_count": 5,
   "id": "c8e127c9-c280-4ac7-83ee-2e37955226bd",
   "metadata": {},
   "outputs": [],
   "source": [
    "import numpy as np"
   ]
  },
  {
   "cell_type": "code",
   "execution_count": 7,
   "id": "7c120c43-1be0-47d8-b1d6-6e24b4eb0bb7",
   "metadata": {},
   "outputs": [],
   "source": [
    "from sklearn.feature_extraction.text import CountVectorizer"
   ]
  },
  {
   "cell_type": "code",
   "execution_count": 9,
   "id": "1a8e922f-4881-4d51-bc25-928ef915d912",
   "metadata": {},
   "outputs": [],
   "source": [
    "from sklearn.metrics.pairwise import cosine_similarity"
   ]
  },
  {
   "cell_type": "code",
   "execution_count": 11,
   "id": "97e2ccab-a191-45e0-9071-fcb276d2a2cd",
   "metadata": {},
   "outputs": [],
   "source": [
    "import ast"
   ]
  },
  {
   "cell_type": "code",
   "execution_count": 13,
   "id": "e4b7746d-fd39-44e7-8076-1f2464fe6379",
   "metadata": {},
   "outputs": [],
   "source": [
    "movies = pd.read_csv(r'C:\\Users\\Administrator\\Desktop\\Data_sets\\tmdb_5000_movies.csv')"
   ]
  },
  {
   "cell_type": "code",
   "execution_count": 15,
   "id": "d80a672d-f472-451c-aaf5-56e2e57cde0a",
   "metadata": {},
   "outputs": [],
   "source": [
    "credits = pd.read_csv(r'C:\\Users\\Administrator\\Desktop\\Data_sets\\tmdb_5000_credits.csv')"
   ]
  },
  {
   "cell_type": "code",
   "execution_count": 17,
   "id": "b0f81d22-7968-4bea-b674-87e69f64410f",
   "metadata": {},
   "outputs": [],
   "source": [
    "movies = movies.merge(credits, on='title')"
   ]
  },
  {
   "cell_type": "code",
   "execution_count": 19,
   "id": "59394d98-f22d-45fa-8d16-3d0d7c8c8288",
   "metadata": {},
   "outputs": [],
   "source": [
    "movies = movies[['movie_id', 'title', 'overview', 'genres', 'keywords', 'cast', 'crew']]"
   ]
  },
  {
   "cell_type": "code",
   "execution_count": 21,
   "id": "5b83e646-1dbb-46ea-9d14-509075f84f01",
   "metadata": {},
   "outputs": [],
   "source": [
    "def convert(obj):\n",
    "    L = []\n",
    "    for i in ast.literal_eval(obj):\n",
    "        L.append(i['name'])\n",
    "    return L"
   ]
  },
  {
   "cell_type": "code",
   "execution_count": 23,
   "id": "26aedb80-4c90-44aa-a77b-64bcec5af65a",
   "metadata": {},
   "outputs": [],
   "source": [
    "def get_director(obj):\n",
    "    L = []\n",
    "    for i in ast.literal_eval(obj):\n",
    "        if i['job'] == 'Director':\n",
    "            L.append(i['name'])\n",
    "    return L"
   ]
  },
  {
   "cell_type": "code",
   "execution_count": 25,
   "id": "632de738-340d-48e4-8f7e-7ca575938b9e",
   "metadata": {},
   "outputs": [],
   "source": [
    "def collapse(L):\n",
    "    return \" \".join(L)\n",
    "\n",
    "movies.dropna(inplace=True)\n",
    "\n",
    "movies['genres'] = movies['genres'].apply(convert)\n",
    "movies['keywords'] = movies['keywords'].apply(convert)\n",
    "movies['cast'] = movies['cast'].apply(lambda x: convert(x)[:3])\n",
    "movies['crew'] = movies['crew'].apply(get_director)"
   ]
  },
  {
   "cell_type": "code",
   "execution_count": 27,
   "id": "347bd73c-d801-42dd-9ccd-63be543ca11d",
   "metadata": {},
   "outputs": [],
   "source": [
    "movies['tags'] = movies['overview'] + \" \" + \\\n",
    "                 movies['genres'].apply(collapse) + \" \" + \\\n",
    "                 movies['keywords'].apply(collapse) + \" \" + \\\n",
    "                 movies['cast'].apply(collapse) + \" \" + \\\n",
    "                 movies['crew'].apply(collapse)\n",
    "\n",
    "new_df = movies[['movie_id', 'title', 'tags']]"
   ]
  },
  {
   "cell_type": "code",
   "execution_count": 31,
   "id": "bd5e9418-b61a-415b-8658-4ec51d223573",
   "metadata": {},
   "outputs": [],
   "source": [
    "new_df = new_df.copy()\n",
    "new_df['tags'] = new_df['tags'].apply(lambda x: x.lower())\n",
    "\n",
    "cv = CountVectorizer(max_features=5000, stop_words='english')\n",
    "vectors = cv.fit_transform(new_df['tags']).toarray()"
   ]
  },
  {
   "cell_type": "code",
   "execution_count": 33,
   "id": "d9c2a1f0-62f3-437b-a067-844ce2f2971c",
   "metadata": {},
   "outputs": [],
   "source": [
    "similarity = cosine_similarity(vectors)"
   ]
  },
  {
   "cell_type": "code",
   "execution_count": 35,
   "id": "43c937f8-1e4c-479d-bc79-d5a3a2ba9e0a",
   "metadata": {},
   "outputs": [
    {
     "name": "stdout",
     "output_type": "stream",
     "text": [
      "['Aliens', 'Moonraker', 'Alien', 'Alien³', 'Silent Running']\n"
     ]
    }
   ],
   "source": [
    "def recommend(movie):\n",
    "    movie = movie.lower()\n",
    "    if movie not in new_df['title'].str.lower().values:\n",
    "        return [\"Movie not found in database.\"]\n",
    "    idx = new_df[new_df['title'].str.lower() == movie].index[0]\n",
    "    distances = list(enumerate(similarity[idx]))\n",
    "    movies_list = sorted(distances, reverse=True, key=lambda x: x[1])[1:6]\n",
    "\n",
    "    recommended_movies = []\n",
    "    for i in movies_list:\n",
    "        recommended_movies.append(new_df.iloc[i[0]].title)\n",
    "    return recommended_movies\n",
    "\n",
    "# Example Test\n",
    "print(recommend('Avatar'))"
   ]
  }
 ],
 "metadata": {
  "kernelspec": {
   "display_name": "Python 3.12 (Pandas)",
   "language": "python",
   "name": "python312"
  },
  "language_info": {
   "name": "python",
   "version": "3.12.6"
  }
 },
 "nbformat": 4,
 "nbformat_minor": 5
}
